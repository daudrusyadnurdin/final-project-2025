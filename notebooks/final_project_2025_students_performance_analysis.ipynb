{
  "nbformat": 4,
  "nbformat_minor": 0,
  "metadata": {
    "colab": {
      "provenance": [],
      "toc_visible": true
    },
    "kernelspec": {
      "name": "python3",
      "display_name": "Python 3"
    },
    "language_info": {
      "name": "python"
    }
  },
  "cells": [
    {
      "cell_type": "markdown",
      "source": [
        "#**Final Project 2025 - Student Performance Analysis**\n",
        "**Student:** Daud Rusyad Nurdin, DA/DS bootcamp Dibimbing.id, batch 34\n",
        "\n"
      ],
      "metadata": {
        "id": "THxBYkvu_Q6c"
      }
    },
    {
      "cell_type": "markdown",
      "source": [
        "##**Title: Student Performance Analysis**\n",
        "\n",
        "**Description:**\n",
        "- This project aims to predict students’ final scores or grades based on the available features in the dataset. Additionally, it seeks to identify which features have the most significant impact on students’ academic success or failure. The analysis uses the dataset \"Student_Grading_Dataset.csv\", sourced from Kaggle: https://www.kaggle.com/datasets/mahmoudelhemaly/students-grading-dataset/data.\n",
        "\n",
        "**Objective:**\n",
        "- The objective of this project is to predict students’ final scores or grades based on the available features, and to analyze which factors most significantly influence academic success or failure."
      ],
      "metadata": {
        "id": "n1lOvPkdRXzY"
      }
    },
    {
      "cell_type": "markdown",
      "source": [
        "## **Library Preparation**"
      ],
      "metadata": {
        "id": "8hFIxg3ZHAfJ"
      }
    },
    {
      "cell_type": "code",
      "execution_count": 13,
      "metadata": {
        "id": "zta1QojdrY81"
      },
      "outputs": [],
      "source": [
        "# Library data\n",
        "import numpy as np #number\n",
        "import pandas as pd\n",
        "\n",
        "# Library grafik\n",
        "import seaborn as sns\n",
        "import matplotlib.pyplot as plt\n",
        "\n",
        "# Menghilangkan warning yang tidak perlu\n",
        "import warnings\n",
        "warnings.filterwarnings('ignore')"
      ]
    },
    {
      "cell_type": "markdown",
      "source": [
        "##**Data Understanding**\n",
        "- Size ⟶ shape: (rows, columns)\n",
        "- Data Structure ⟶ info & description @Kaggle\n",
        "- Data Quality:\n",
        "  - Duplicate\n",
        "  - Missing Values\n",
        "  - Outliers/ Anomaly\n",
        "  - Descriptive Statistic\n",
        "  - Features Correlation"
      ],
      "metadata": {
        "id": "LE-tG1bSE6JR"
      }
    },
    {
      "cell_type": "code",
      "source": [
        "# Read data set from github\n",
        "file_name = \"Students_Grading_Dataset.csv\"\n",
        "def load_data():\n",
        "    url = \"https://raw.githubusercontent.com/daudrusyadnurdin/final-project-2025/main/data/\" + file_name\n",
        "    return pd.read_csv(url)\n",
        "\n",
        "df = load_data()"
      ],
      "metadata": {
        "id": "dAAODScTHk5Q"
      },
      "execution_count": 28,
      "outputs": []
    },
    {
      "cell_type": "markdown",
      "source": [
        "###**Dataset Size**"
      ],
      "metadata": {
        "id": "bZ53qgszIFkv"
      }
    },
    {
      "cell_type": "code",
      "source": [
        "# Count the number of rows and columns\n",
        "df.shape\n",
        "print(f\"This dataset has {df.shape[0]} rows and {df.shape[1]} columns.\")"
      ],
      "metadata": {
        "colab": {
          "base_uri": "https://localhost:8080/"
        },
        "id": "vKVnzkQGIKVk",
        "outputId": "dd27a0b3-9d40-4887-dd8a-75010785b147"
      },
      "execution_count": 29,
      "outputs": [
        {
          "output_type": "stream",
          "name": "stdout",
          "text": [
            "This dataset has 5000 rows and 23 columns.\n"
          ]
        }
      ]
    },
    {
      "cell_type": "markdown",
      "source": [
        "###**Data Structure**\n",
        "Source: https://www.kaggle.com/code/mahmoudelhemaly/student-performance-analysis/input?select=metadata.xlsx"
      ],
      "metadata": {
        "id": "RLaaaH34IlqC"
      }
    },
    {
      "cell_type": "markdown",
      "source": [
        "No | Column Name\t| Data Type\t| Description\n",
        "---|--------------|-----------| ------------\n",
        "1\t| Student_ID |\tString\t| Unique identifier for each student\n",
        "2\t|First_Name |\tString\t| Student’s first name\n",
        "3\t|Last_Name |\tString\t| Student’s last name\n",
        "4\t|Email\t| String\t| Contact email (can be anonymized)\n",
        "5\t|Gender\t| Categorical\t| Male, Female, Other\n",
        "6\t|Age\t| Integer\t| Age of the student\n",
        "7\t|Department\t| String\t| Student's department (e.g., CS, Engineering, Business)\n",
        "8\t|Attendance (%)\t| Float\t| Attendance percentage (0-100%)\n",
        "9\t|Midterm_Score\t| Float\t| Midterm exam score (out of 100)\n",
        "10\t| Final_Score\t| Float\t| Final exam score (out of 100)\n",
        "11\t| Assignments_Avg\t| Float\t| Average score of all assignments (out of 100)\n",
        "12\t| Quizzes_Avg\t| Float\t| Average quiz scores (out of 100)\n",
        "13\t| Participation_Score\t| Float\t| Score based on class participation (0-10)\n",
        "14\t| Projects_Score\t| Float\t| Project evaluation score (out of 100)\n",
        "15\t| Total_Score\t| Float\t| Weighted sum of all grades\n",
        "16\t| Grade\t| Categorical\t| Letter grade (A, B, C, D, F)\n",
        "17\t| Study_Hours_per_Week\t| Float\t| Average study hours per week\n",
        "18\t| Extracurricular_Activities\t| Boolean\t| Whether the student participates in extracurriculars (Yes/No)\n",
        "19\t| Internet_Access_at_Home\t| Boolean\t| Does the student have access to the internet at home? (Yes/No)\n",
        "20\t| Parent_Education_Level\t| Categorical\t| Highest education level of parents (None, High School, Bachelor's, Master's, PhD)\n",
        "21\t| Family_Income_Level\t| Categorical\t| Low, Medium, High\n",
        "22\t| Stress_Level (1-10)\t| Integer\t| Self-reported stress level (1: Low, 10: High)\n",
        "23\t| Sleep_Hours_per_Night\t| Float\t| Average hours of sleep per night"
      ],
      "metadata": {
        "id": "kV-ydE5wKa_k"
      }
    },
    {
      "cell_type": "markdown",
      "source": [
        "**Notes:**\n",
        "- From an initial observation, several columns appear to be irrelevant for the subsequent analysis, as they do not hold analytical significance. These include (4 columns):\n",
        "  - **Student_ID**\n",
        "  - **First_Name**\n",
        "  - **Last_Name**\n",
        "  - **Email**\n",
        "\n",
        "- These variables/ features are merely identifiers or personal details and do not contribute to understanding or predicting a student's academic performance or final grade.\n",
        "\n",
        "- Features or variables potentially less directly relevant which stated below here (6 columns), but worth considering for the other analysis such as sociological or psychological analysis.\n",
        "  - **Gender** : While it can be examined to identify potential performance differences across genders, it does not causally influence academic achievement.\n",
        "  - **Department** : May hold relevance if the dataset covers multiple disciplines with varying levels of difficulty; otherwise, its analytical contribution is limited.\n",
        "  - **Extracurricular_Activities** : Participation may affect time management and overall balance, yet its impact on academic outcomes tends to be indirect.\n",
        "  - **Internet_Access_at_Home** \" Serves as a supportive factor rather than a direct determinant of performance.\n",
        "  - **Parent_Education_Level** : Reflects background context; it may influence students’ attitudes toward learning but not directly their scores.\n",
        "  - **Family_Income_Level** : Similar to parental education, it can affect access to resources and learning environments, though not as an immediate predictor of success.\n",
        "\n",
        "- Features or variables highly relevant for performance analysis (to be retained) are bellows (11 columns):\n",
        "  - **Age** : May influence students’ maturity levels and sense of academic responsibility.\n",
        "  - **Attendance (%)** : Commonly exhibits a strong correlation with academic achievement.\n",
        "  - **Midterm_Score**, **Assignments_Avg**, **Quizzes_Avg**, **Participation_Score**, **Projects_Score**, **Total_Score** : All represent the core indicators of students’ academic performance and are therefore essential for predictive modeling.\n",
        "  - **Study_Hours_per_Week** : A key behavioral variable that directly contributes to academic success.\n",
        "  - **Stress_Level (1–10)** : Can significantly affect cognitive performance and learning efficiency.\n",
        "  - **Sleep_Hours_per_Night** : Impacts concentration, memory retention, and overall learning outcomes.\n",
        "\n",
        "- In this project, **Final_Score** and **Grade** are defined as the two target variables (labels). These columns represent the outcomes to be predicted based on the remaining input features, reflecting students’ overall academic performance in numerical and categorical forms, respectively."
      ],
      "metadata": {
        "id": "xAVAOeWbN7sf"
      }
    },
    {
      "cell_type": "code",
      "source": [
        "df.info()"
      ],
      "metadata": {
        "colab": {
          "base_uri": "https://localhost:8080/"
        },
        "id": "6wCAx176IpEk",
        "outputId": "446337f7-6943-48ac-abdf-75a2b6a5be43"
      },
      "execution_count": 27,
      "outputs": [
        {
          "output_type": "stream",
          "name": "stdout",
          "text": [
            "<class 'pandas.core.frame.DataFrame'>\n",
            "RangeIndex: 5000 entries, 0 to 4999\n",
            "Data columns (total 23 columns):\n",
            " #   Column                      Non-Null Count  Dtype  \n",
            "---  ------                      --------------  -----  \n",
            " 0   Student_ID                  5000 non-null   object \n",
            " 1   First_Name                  5000 non-null   object \n",
            " 2   Last_Name                   5000 non-null   object \n",
            " 3   Email                       5000 non-null   object \n",
            " 4   Gender                      5000 non-null   object \n",
            " 5   Age                         5000 non-null   int64  \n",
            " 6   Department                  5000 non-null   object \n",
            " 7   Attendance (%)              4484 non-null   float64\n",
            " 8   Midterm_Score               5000 non-null   float64\n",
            " 9   Final_Score                 5000 non-null   float64\n",
            " 10  Assignments_Avg             4483 non-null   float64\n",
            " 11  Quizzes_Avg                 5000 non-null   float64\n",
            " 12  Participation_Score         5000 non-null   float64\n",
            " 13  Projects_Score              5000 non-null   float64\n",
            " 14  Total_Score                 5000 non-null   float64\n",
            " 15  Grade                       5000 non-null   object \n",
            " 16  Study_Hours_per_Week        5000 non-null   float64\n",
            " 17  Extracurricular_Activities  5000 non-null   object \n",
            " 18  Internet_Access_at_Home     5000 non-null   object \n",
            " 19  Parent_Education_Level      3206 non-null   object \n",
            " 20  Family_Income_Level         5000 non-null   object \n",
            " 21  Stress_Level (1-10)         5000 non-null   int64  \n",
            " 22  Sleep_Hours_per_Night       5000 non-null   float64\n",
            "dtypes: float64(10), int64(2), object(11)\n",
            "memory usage: 898.6+ KB\n"
          ]
        }
      ]
    }
  ]
}